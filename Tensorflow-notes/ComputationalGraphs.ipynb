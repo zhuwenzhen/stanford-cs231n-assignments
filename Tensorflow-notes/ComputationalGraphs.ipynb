{
 "cells": [
  {
   "cell_type": "code",
   "execution_count": 1,
   "metadata": {
    "collapsed": true
   },
   "outputs": [],
   "source": [
    "import numpy as np\n",
    "import tensorflow as tf\n",
    "np.random.seed(0)\n",
    "import time"
   ]
  },
  {
   "cell_type": "code",
   "execution_count": 17,
   "metadata": {
    "collapsed": true
   },
   "outputs": [],
   "source": [
    "N, D = 3, 4"
   ]
  },
  {
   "cell_type": "markdown",
   "metadata": {},
   "source": [
    "Create forward computational graph"
   ]
  },
  {
   "cell_type": "code",
   "execution_count": 21,
   "metadata": {
    "collapsed": true
   },
   "outputs": [],
   "source": [
    "x = tf.placeholder(tf.float32)\n",
    "y = tf.placeholder(tf.float32)\n",
    "z = tf.placeholder(tf.float32)\n",
    "a = x * y\n",
    "b = a + z\n",
    "c = tf.reduce_sum(b)"
   ]
  },
  {
   "cell_type": "markdown",
   "metadata": {},
   "source": [
    "Ask TensorFlow to compute gradients"
   ]
  },
  {
   "cell_type": "code",
   "execution_count": 19,
   "metadata": {
    "collapsed": true
   },
   "outputs": [],
   "source": [
    "grad_x, grad_y, grad_z = tf.gradients(c, [x, y, z])"
   ]
  },
  {
   "cell_type": "code",
   "execution_count": 25,
   "metadata": {
    "collapsed": false
   },
   "outputs": [],
   "source": [
    "with tf.Session() as sess:\n",
    "    values = {\n",
    "        x: np.random.randn(N, D),\n",
    "        y: np.random.randn(N, D),\n",
    "        z: np.random.randn(N, D),\n",
    "    }\n",
    "    out = sess.run([c, grad_x, grad_y, grad_z], feed_dict = values)\n",
    "    c_val, grad_x_val, grad_y_val, grad_z_val = out\n",
    "#     print(c_val, grad_x_val, grad_y_val, grad_z_val)"
   ]
  },
  {
   "cell_type": "markdown",
   "metadata": {},
   "source": [
    "Check timing on CPU:"
   ]
  },
  {
   "cell_type": "code",
   "execution_count": 2,
   "metadata": {
    "collapsed": false
   },
   "outputs": [
    {
     "name": "stdout",
     "output_type": "stream",
     "text": [
      "16.54026484489441\n"
     ]
    }
   ],
   "source": [
    "start = time.time()\n",
    "\n",
    "N, D = 10000, 10000\n",
    "with tf.device('/cpu:0'):\n",
    "    x = tf.placeholder(tf.float32)\n",
    "    y = tf.placeholder(tf.float32)\n",
    "    z = tf.placeholder(tf.float32)\n",
    "    \n",
    "    a = x * y\n",
    "    b = a + z\n",
    "    c = tf.reduce_sum(b)\n",
    "    \n",
    "grad_x, grad_y, grad_z = tf.gradients(c, [x, y, z])\n",
    "\n",
    "with tf.Session() as sess:\n",
    "    values = {\n",
    "        x: np.random.randn(N, D),\n",
    "        y: np.random.randn(N, D),\n",
    "        z: np.random.randn(N, D),\n",
    "    }\n",
    "    out = sess.run([c, grad_x, grad_y, grad_z], feed_dict = values)\n",
    "    c_val, grad_x_val, grad_y_val, grad_z_val = out\n",
    "    \n",
    "end = time.time()\n",
    "print(end - start)"
   ]
  },
  {
   "cell_type": "markdown",
   "metadata": {},
   "source": [
    "Check timing on GPU:"
   ]
  },
  {
   "cell_type": "code",
   "execution_count": 3,
   "metadata": {
    "collapsed": false
   },
   "outputs": [
    {
     "name": "stdout",
     "output_type": "stream",
     "text": [
      "20.378527879714966\n"
     ]
    }
   ],
   "source": [
    "start = time.time()\n",
    "\n",
    "N, D = 10000, 10000\n",
    "with tf.device('/gpu:0'):\n",
    "    x = tf.placeholder(tf.float32)\n",
    "    y = tf.placeholder(tf.float32)\n",
    "    z = tf.placeholder(tf.float32)\n",
    "    \n",
    "    a = x * y\n",
    "    b = a + z\n",
    "    c = tf.reduce_sum(b)\n",
    "    \n",
    "    grad_x, grad_y, grad_z = tf.gradients(c, [x, y, z])\n",
    "\n",
    "    with tf.Session() as sess:\n",
    "        values = {\n",
    "            x: np.random.randn(N, D),\n",
    "            y: np.random.randn(N, D),\n",
    "            z: np.random.randn(N, D),\n",
    "        }\n",
    "        out = sess.run([c, grad_x, grad_y, grad_z], feed_dict = values)\n",
    "        c_val, grad_x_val, grad_y_val, grad_z_val = out\n",
    "    \n",
    "end = time.time()\n",
    "print(end - start)"
   ]
  }
 ],
 "metadata": {
  "kernelspec": {
   "display_name": "Python 3",
   "language": "python",
   "name": "python3"
  },
  "language_info": {
   "codemirror_mode": {
    "name": "ipython",
    "version": 3
   },
   "file_extension": ".py",
   "mimetype": "text/x-python",
   "name": "python",
   "nbconvert_exporter": "python",
   "pygments_lexer": "ipython3",
   "version": "3.5.2"
  }
 },
 "nbformat": 4,
 "nbformat_minor": 0
}
