{
 "cells": [
  {
   "cell_type": "markdown",
   "metadata": {},
   "source": [
    "## Lecture 8: Deep Learning Software\n",
    "\n",
    "### TensorFlow: Neural Net\n",
    "\n",
    "Running example: Train a two-layer ReLU network on random data with L2 loss"
   ]
  },
  {
   "cell_type": "code",
   "execution_count": 12,
   "metadata": {
    "collapsed": true
   },
   "outputs": [],
   "source": [
    "import tensorflow as tf\n",
    "import numpy as np\n",
    "import time\n",
    "import math\n",
    "import timeit\n",
    "import matplotlib.pyplot as plt\n",
    "%matplotlib inline"
   ]
  },
  {
   "cell_type": "code",
   "execution_count": 43,
   "metadata": {
    "collapsed": false
   },
   "outputs": [
    {
     "name": "stdout",
     "output_type": "stream",
     "text": [
      "Training\n",
      "Overal loss = 992\n"
     ]
    },
    {
     "data": {
      "image/png": "[encoded data removed]",
      "text/plain": [
       "<matplotlib.figure.Figure at 0x7fd55093ed68>"
      ]
     },
     "metadata": {},
     "output_type": "display_data"
    },
    {
     "name": "stdout",
     "output_type": "stream",
     "text": [
      "time:  0.480609655380249\n"
     ]
    }
   ],
   "source": [
    "## Define computational graph\n",
    "start = time.time()\n",
    "N, D, H = 64, 1000, 100\n",
    "\n",
    "# init variables with placeholders\n",
    "x = tf.placeholder(tf.float32, shape = (N, D))\n",
    "y = tf.placeholder(tf.float32, shape = (N, D))\n",
    "w1 = tf.placeholder(tf.float32, shape = (D, H))\n",
    "w2 = tf.placeholder(tf.float32, shape = (H, D))\n",
    "\n",
    "# Foward pass: compute prediction for y and loss \n",
    "# (L2 distance between y and y_pred)\n",
    "h = tf.maximum(tf.matmul(x, w1), 0)\n",
    "y_pred = tf.matmul(h, w2)\n",
    "diff = y_pred - y\n",
    "loss = tf.reduce_mean(tf.reduce_sum(diff ** 2, axis = 1))\n",
    "\n",
    "grad_w1, grad_w2 = tf.gradients(loss, [w1, w2])\n",
    "\n",
    "\n",
    "## Run the graph many times\n",
    "with tf.Session() as sess:\n",
    "    values = {x: np.random.randn(N, D),\n",
    "              w1: np.random.randn(D, H),\n",
    "              w2: np.random.randn(H, D),\n",
    "              y: np.random.randn(N, D),}\n",
    "    \n",
    "    learning_rate = 1e-5\n",
    "    \n",
    "    losses = []\n",
    "    print('Training')\n",
    "    for t in range(50):\n",
    "        out = sess.run([loss, grad_w1, grad_w2], feed_dict = values)\n",
    "        loss_val, grad_w1_val, grad_w2_val = out\n",
    "        # update weights\n",
    "        values[w1] -= learning_rate * grad_w1_val\n",
    "        values[w1] -= learning_rate * grad_w1_val\n",
    "        losses.append(loss_val)\n",
    "    \n",
    "    print('Overal loss = {0:.3g}'\\\n",
    "          .format(loss_val))\n",
    "    plt.plot(losses)\n",
    "    plt.grid(True)\n",
    "    plt.xlabel('number of iteration')\n",
    "    plt.ylabel('loss')\n",
    "    plt.show()\n",
    "end = time.time()\n",
    "print('time: ', end-start)"
   ]
  },
  {
   "cell_type": "code",
   "execution_count": 44,
   "metadata": {
    "collapsed": false
   },
   "outputs": [
    {
     "name": "stdout",
     "output_type": "stream",
     "text": [
      "Training\n",
      "3277.86\n"
     ]
    },
    {
     "data": {
      "image/png": "[encoded data removed]",
      "text/plain": [
       "<matplotlib.figure.Figure at 0x7fd5508cffd0>"
      ]
     },
     "metadata": {},
     "output_type": "display_data"
    },
    {
     "name": "stdout",
     "output_type": "stream",
     "text": [
      "time =  0.4940667152404785\n"
     ]
    }
   ],
   "source": [
    "## Define computational graph\n",
    "start = time.time()\n",
    "N, D, H = 64, 1000, 100\n",
    "\n",
    "# init variables with placeholders\n",
    "x = tf.placeholder(tf.float32, shape = (N, D))\n",
    "y = tf.placeholder(tf.float32, shape = (N, D))\n",
    "w1 = tf.Variable(tf.random_normal((D, H)))\n",
    "w2 = tf.Variable(tf.random_normal((H, D)))\n",
    "\n",
    "# Foward pass: compute prediction for y and loss \n",
    "# (L2 distance between y and y_pred)\n",
    "h = tf.maximum(tf.matmul(x, w1), 0)\n",
    "y_pred = tf.matmul(h, w2)\n",
    "loss = tf.losses.mean_squared_error(y_pred, y)\n",
    "\n",
    "# grad_w1, grad_w2 = tf.gradients(loss, [w1, w2])\n",
    "optimizer = tf.train.GradientDescentOptimizer(1e-3)\n",
    "updates = optimizer.minimize(loss)\n",
    "\n",
    "\n",
    "## Run the graph many times\n",
    "with tf.Session() as sess:\n",
    "    sess.run(tf.global_variables_initializer())\n",
    "    values = {x: np.random.randn(N, D),\n",
    "              y: np.random.randn(N, D),}\n",
    "    \n",
    "    # learning_rate = 1e-5\n",
    "    losses = []\n",
    "    print('Training')\n",
    "    for t in range(50):\n",
    "        loss_val, _ = sess.run([loss, updates], feed_dict = values)\n",
    "        losses.append(loss_val)\n",
    "    print(loss_val)\n",
    "        \n",
    "    plt.plot(losses)\n",
    "    plt.grid(True)\n",
    "    plt.xlabel('number of iteration')\n",
    "    plt.ylabel('loss')\n",
    "    plt.show()\n",
    "    \n",
    "end = time.time()\n",
    "print('time = ', end - start)"
   ]
  }
 ],
 "metadata": {
  "kernelspec": {
   "display_name": "Python 3",
   "language": "python",
   "name": "python3"
  },
  "language_info": {
   "codemirror_mode": {
    "name": "ipython",
    "version": 3
   },
   "file_extension": ".py",
   "mimetype": "text/x-python",
   "name": "python",
   "nbconvert_exporter": "python",
   "pygments_lexer": "ipython3",
   "version": "3.5.2"
  }
 },
 "nbformat": 4,
 "nbformat_minor": 0
}
